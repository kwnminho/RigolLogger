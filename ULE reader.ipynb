{
 "cells": [
  {
   "cell_type": "code",
   "execution_count": 8,
   "metadata": {},
   "outputs": [
    {
     "name": "stdout",
     "output_type": "stream",
     "text": [
      "Rigol Technologies,DM3058,DM3L213900714,01.01.00.02.03.01\n",
      "\n"
     ]
    }
   ],
   "source": [
    "# Temperature reader for 3kOhm Omega thermistor with Rigol benchtop multimeter\n",
    "\n",
    "import pyvisa\n",
    "import numpy as np\n",
    "import time\n",
    "\n",
    "rm = pyvisa.ResourceManager()\n",
    "rm.list_resources()\n",
    "inst = rm.open_resource('USB0::0x1AB1::0x09C4::DM3L213900714::INSTR')\n",
    "print(inst.query(\"*IDN?\"))"
   ]
  },
  {
   "cell_type": "code",
   "execution_count": 9,
   "metadata": {},
   "outputs": [
    {
     "name": "stdout",
     "output_type": "stream",
     "text": [
      "3.563366E+03\n",
      "\n",
      "time.struct_time(tm_year=2021, tm_mon=5, tm_mday=6, tm_hour=10, tm_min=1, tm_sec=0, tm_wday=3, tm_yday=126, tm_isdst=1)\n",
      "1620309660.7855034\n"
     ]
    }
   ],
   "source": [
    "print(inst.query(\"MEAsure:RESistance?\"))\n",
    "print(time.localtime())\n",
    "print(time.time())"
   ]
  },
  {
   "cell_type": "code",
   "execution_count": null,
   "metadata": {},
   "outputs": [
    {
     "name": "stdout",
     "output_type": "stream",
     "text": [
      "C:\\Users\\TweeSr\\Dropbox\\Research\\2021\\2021-05-06\n"
     ]
    }
   ],
   "source": [
    "A = 1.4052 * 10**-3\n",
    "B = 2.3692 * 10**-4\n",
    "C = 1.0125 * 10**-7\n",
    "\n",
    "import time\n",
    "import pandas as pd\n",
    "import os\n",
    "from datetime import datetime\n",
    "\n",
    "print (os.getcwd())\n",
    "\n",
    "i = 1\n",
    "timestamps = []\n",
    "temperatures = []\n",
    "resistances = []\n",
    "while 1:\n",
    "    R = inst.query(\"MEAsure:RESistance?\")\n",
    "    R = float(R)\n",
    "    invT = A + B * np.log(R) + C * (np.log(R))**3\n",
    "    T = 1/invT\n",
    "    time.sleep(10)\n",
    "    #timestamps.append(datetime.now().strftime(\"%H:%M:%S\"))\n",
    "    timestamps.append(time.time())\n",
    "    temperatures.append(T)\n",
    "    resistances.append(R)\n",
    "    i += 1\n",
    "    if i % 180 == 0:\n",
    "        df = pd.DataFrame(columns=['timestamp', 'temperature', 'resistance'])\n",
    "        df.timestamp = timestamps\n",
    "        df.temperature = temperatures\n",
    "        df.resistance = resistances\n",
    "        timestamps = []\n",
    "        temperatures = []\n",
    "        resistances = []\n",
    "        cur_stamp = datetime.now().strftime(\"%m-%d_%H-%M-%S\")\n",
    "        print (df)\n",
    "        df.to_csv(\"ULE_Radiation_Shield_Readings_{}.csv\".format(cur_stamp))   "
   ]
  },
  {
   "cell_type": "code",
   "execution_count": null,
   "metadata": {},
   "outputs": [],
   "source": []
  }
 ],
 "metadata": {
  "kernelspec": {
   "display_name": "Python 3",
   "language": "python",
   "name": "python3"
  },
  "language_info": {
   "codemirror_mode": {
    "name": "ipython",
    "version": 3
   },
   "file_extension": ".py",
   "mimetype": "text/x-python",
   "name": "python",
   "nbconvert_exporter": "python",
   "pygments_lexer": "ipython3",
   "version": "3.8.5"
  }
 },
 "nbformat": 4,
 "nbformat_minor": 4
}
